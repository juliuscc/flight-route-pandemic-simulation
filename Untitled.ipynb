{
 "cells": [
  {
   "cell_type": "code",
   "execution_count": 33,
   "metadata": {},
   "outputs": [
    {
     "name": "stdout",
     "output_type": "stream",
     "text": [
      "linreg = a*x + b = 1.4087903153529389*x+10.32374918819301\n"
     ]
    },
    {
     "data": {
      "text/plain": [
       "<networkx.classes.graph.Graph at 0x7fb42946afd0>"
      ]
     },
     "execution_count": 33,
     "metadata": {},
     "output_type": "execute_result"
    }
   ],
   "source": [
    "\n",
    "import lib.flow_of_passengers as greader\n",
    "import lib.simulation.prepare_graph as prepare_graph\n",
    "\n",
    "\n",
    "G = greader.read_graph_w_extrapolated_flow()\n",
    "prepare_graph.add_seir_states(G)\n"
   ]
  },
  {
   "cell_type": "code",
   "execution_count": 34,
   "metadata": {},
   "outputs": [
    {
     "data": {
      "text/plain": [
       "{'name': 'Stockholm-Arlanda Airport',\n",
       " 'population': 123,\n",
       " 'susceptible': 26622916.0,\n",
       " 'exposed': 0,\n",
       " 'infectious': 0,\n",
       " 'recovered': 0,\n",
       " 'sum_neighbour_weights': 2030048537.4948742}"
      ]
     },
     "execution_count": 34,
     "metadata": {},
     "output_type": "execute_result"
    }
   ],
   "source": [
    "G.nodes['ARN']['population'] = 123\n",
    "G.nodes['ARN']"
   ]
  },
  {
   "cell_type": "code",
   "execution_count": 29,
   "metadata": {},
   "outputs": [],
   "source": [
    "for node in G.nodes:\n",
    "    G.nodes[node]['allala'] = 99999"
   ]
  },
  {
   "cell_type": "code",
   "execution_count": 36,
   "metadata": {},
   "outputs": [
    {
     "data": {
      "text/plain": [
       "{'name': 'Stockholm-Arlanda Airport',\n",
       " 'population': 123,\n",
       " 'susceptible': 26622916.0,\n",
       " 'exposed': 0,\n",
       " 'infectious': 0,\n",
       " 'recovered': 0,\n",
       " 'sum_neighbour_weights': 2030048537.4948742,\n",
       " 'asdf': 'asdf'}"
      ]
     },
     "execution_count": 36,
     "metadata": {},
     "output_type": "execute_result"
    }
   ],
   "source": [
    "myNode = G.nodes['ARN']\n",
    "myNode['asdf'] = 'asdf'\n",
    "G.nodes['ARN']"
   ]
  }
 ],
 "metadata": {
  "kernelspec": {
   "display_name": "Python 3",
   "language": "python",
   "name": "python3"
  },
  "language_info": {
   "codemirror_mode": {
    "name": "ipython",
    "version": 3
   },
   "file_extension": ".py",
   "mimetype": "text/x-python",
   "name": "python",
   "nbconvert_exporter": "python",
   "pygments_lexer": "ipython3",
   "version": "3.7.3"
  }
 },
 "nbformat": 4,
 "nbformat_minor": 2
}
